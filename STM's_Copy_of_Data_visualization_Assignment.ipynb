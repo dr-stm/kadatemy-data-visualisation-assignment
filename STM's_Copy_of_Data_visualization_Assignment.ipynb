{
  "cells": [
    {
      "cell_type": "markdown",
      "source": [
        "This assignment is on data visualization. Use the given dataset to answer the questions."
      ],
      "metadata": {
        "id": "QmT0oEywvxFb"
      }
    },
    {
      "cell_type": "code",
      "execution_count": 7,
      "metadata": {
        "scrolled": true,
        "id": "Y1dixOdmoY3v",
        "outputId": "f02c59aa-0b47-4b5c-a4c6-61fe97eb0a7c",
        "colab": {
          "base_uri": "https://localhost:8080/",
          "height": 206
        }
      },
      "outputs": [
        {
          "output_type": "execute_result",
          "data": {
            "text/plain": [
              "   survived  pclass     sex   age  sibsp  parch     fare embarked  class  \\\n",
              "0         0       3    male  22.0      1      0   7.2500        S  Third   \n",
              "1         1       1  female  38.0      1      0  71.2833        C  First   \n",
              "2         1       3  female  26.0      0      0   7.9250        S  Third   \n",
              "3         1       1  female  35.0      1      0  53.1000        S  First   \n",
              "4         0       3    male  35.0      0      0   8.0500        S  Third   \n",
              "\n",
              "     who  adult_male deck  embark_town alive  alone  \n",
              "0    man        True  NaN  Southampton    no  False  \n",
              "1  woman       False    C    Cherbourg   yes  False  \n",
              "2  woman       False  NaN  Southampton   yes   True  \n",
              "3  woman       False    C  Southampton   yes  False  \n",
              "4    man        True  NaN  Southampton    no   True  "
            ],
            "text/html": [
              "\n",
              "  <div id=\"df-d746eb44-1a4a-4cd8-b2c6-9c9ed6ce2697\">\n",
              "    <div class=\"colab-df-container\">\n",
              "      <div>\n",
              "<style scoped>\n",
              "    .dataframe tbody tr th:only-of-type {\n",
              "        vertical-align: middle;\n",
              "    }\n",
              "\n",
              "    .dataframe tbody tr th {\n",
              "        vertical-align: top;\n",
              "    }\n",
              "\n",
              "    .dataframe thead th {\n",
              "        text-align: right;\n",
              "    }\n",
              "</style>\n",
              "<table border=\"1\" class=\"dataframe\">\n",
              "  <thead>\n",
              "    <tr style=\"text-align: right;\">\n",
              "      <th></th>\n",
              "      <th>survived</th>\n",
              "      <th>pclass</th>\n",
              "      <th>sex</th>\n",
              "      <th>age</th>\n",
              "      <th>sibsp</th>\n",
              "      <th>parch</th>\n",
              "      <th>fare</th>\n",
              "      <th>embarked</th>\n",
              "      <th>class</th>\n",
              "      <th>who</th>\n",
              "      <th>adult_male</th>\n",
              "      <th>deck</th>\n",
              "      <th>embark_town</th>\n",
              "      <th>alive</th>\n",
              "      <th>alone</th>\n",
              "    </tr>\n",
              "  </thead>\n",
              "  <tbody>\n",
              "    <tr>\n",
              "      <th>0</th>\n",
              "      <td>0</td>\n",
              "      <td>3</td>\n",
              "      <td>male</td>\n",
              "      <td>22.0</td>\n",
              "      <td>1</td>\n",
              "      <td>0</td>\n",
              "      <td>7.2500</td>\n",
              "      <td>S</td>\n",
              "      <td>Third</td>\n",
              "      <td>man</td>\n",
              "      <td>True</td>\n",
              "      <td>NaN</td>\n",
              "      <td>Southampton</td>\n",
              "      <td>no</td>\n",
              "      <td>False</td>\n",
              "    </tr>\n",
              "    <tr>\n",
              "      <th>1</th>\n",
              "      <td>1</td>\n",
              "      <td>1</td>\n",
              "      <td>female</td>\n",
              "      <td>38.0</td>\n",
              "      <td>1</td>\n",
              "      <td>0</td>\n",
              "      <td>71.2833</td>\n",
              "      <td>C</td>\n",
              "      <td>First</td>\n",
              "      <td>woman</td>\n",
              "      <td>False</td>\n",
              "      <td>C</td>\n",
              "      <td>Cherbourg</td>\n",
              "      <td>yes</td>\n",
              "      <td>False</td>\n",
              "    </tr>\n",
              "    <tr>\n",
              "      <th>2</th>\n",
              "      <td>1</td>\n",
              "      <td>3</td>\n",
              "      <td>female</td>\n",
              "      <td>26.0</td>\n",
              "      <td>0</td>\n",
              "      <td>0</td>\n",
              "      <td>7.9250</td>\n",
              "      <td>S</td>\n",
              "      <td>Third</td>\n",
              "      <td>woman</td>\n",
              "      <td>False</td>\n",
              "      <td>NaN</td>\n",
              "      <td>Southampton</td>\n",
              "      <td>yes</td>\n",
              "      <td>True</td>\n",
              "    </tr>\n",
              "    <tr>\n",
              "      <th>3</th>\n",
              "      <td>1</td>\n",
              "      <td>1</td>\n",
              "      <td>female</td>\n",
              "      <td>35.0</td>\n",
              "      <td>1</td>\n",
              "      <td>0</td>\n",
              "      <td>53.1000</td>\n",
              "      <td>S</td>\n",
              "      <td>First</td>\n",
              "      <td>woman</td>\n",
              "      <td>False</td>\n",
              "      <td>C</td>\n",
              "      <td>Southampton</td>\n",
              "      <td>yes</td>\n",
              "      <td>False</td>\n",
              "    </tr>\n",
              "    <tr>\n",
              "      <th>4</th>\n",
              "      <td>0</td>\n",
              "      <td>3</td>\n",
              "      <td>male</td>\n",
              "      <td>35.0</td>\n",
              "      <td>0</td>\n",
              "      <td>0</td>\n",
              "      <td>8.0500</td>\n",
              "      <td>S</td>\n",
              "      <td>Third</td>\n",
              "      <td>man</td>\n",
              "      <td>True</td>\n",
              "      <td>NaN</td>\n",
              "      <td>Southampton</td>\n",
              "      <td>no</td>\n",
              "      <td>True</td>\n",
              "    </tr>\n",
              "  </tbody>\n",
              "</table>\n",
              "</div>\n",
              "      <button class=\"colab-df-convert\" onclick=\"convertToInteractive('df-d746eb44-1a4a-4cd8-b2c6-9c9ed6ce2697')\"\n",
              "              title=\"Convert this dataframe to an interactive table.\"\n",
              "              style=\"display:none;\">\n",
              "        \n",
              "  <svg xmlns=\"http://www.w3.org/2000/svg\" height=\"24px\"viewBox=\"0 0 24 24\"\n",
              "       width=\"24px\">\n",
              "    <path d=\"M0 0h24v24H0V0z\" fill=\"none\"/>\n",
              "    <path d=\"M18.56 5.44l.94 2.06.94-2.06 2.06-.94-2.06-.94-.94-2.06-.94 2.06-2.06.94zm-11 1L8.5 8.5l.94-2.06 2.06-.94-2.06-.94L8.5 2.5l-.94 2.06-2.06.94zm10 10l.94 2.06.94-2.06 2.06-.94-2.06-.94-.94-2.06-.94 2.06-2.06.94z\"/><path d=\"M17.41 7.96l-1.37-1.37c-.4-.4-.92-.59-1.43-.59-.52 0-1.04.2-1.43.59L10.3 9.45l-7.72 7.72c-.78.78-.78 2.05 0 2.83L4 21.41c.39.39.9.59 1.41.59.51 0 1.02-.2 1.41-.59l7.78-7.78 2.81-2.81c.8-.78.8-2.07 0-2.86zM5.41 20L4 18.59l7.72-7.72 1.47 1.35L5.41 20z\"/>\n",
              "  </svg>\n",
              "      </button>\n",
              "      \n",
              "  <style>\n",
              "    .colab-df-container {\n",
              "      display:flex;\n",
              "      flex-wrap:wrap;\n",
              "      gap: 12px;\n",
              "    }\n",
              "\n",
              "    .colab-df-convert {\n",
              "      background-color: #E8F0FE;\n",
              "      border: none;\n",
              "      border-radius: 50%;\n",
              "      cursor: pointer;\n",
              "      display: none;\n",
              "      fill: #1967D2;\n",
              "      height: 32px;\n",
              "      padding: 0 0 0 0;\n",
              "      width: 32px;\n",
              "    }\n",
              "\n",
              "    .colab-df-convert:hover {\n",
              "      background-color: #E2EBFA;\n",
              "      box-shadow: 0px 1px 2px rgba(60, 64, 67, 0.3), 0px 1px 3px 1px rgba(60, 64, 67, 0.15);\n",
              "      fill: #174EA6;\n",
              "    }\n",
              "\n",
              "    [theme=dark] .colab-df-convert {\n",
              "      background-color: #3B4455;\n",
              "      fill: #D2E3FC;\n",
              "    }\n",
              "\n",
              "    [theme=dark] .colab-df-convert:hover {\n",
              "      background-color: #434B5C;\n",
              "      box-shadow: 0px 1px 3px 1px rgba(0, 0, 0, 0.15);\n",
              "      filter: drop-shadow(0px 1px 2px rgba(0, 0, 0, 0.3));\n",
              "      fill: #FFFFFF;\n",
              "    }\n",
              "  </style>\n",
              "\n",
              "      <script>\n",
              "        const buttonEl =\n",
              "          document.querySelector('#df-d746eb44-1a4a-4cd8-b2c6-9c9ed6ce2697 button.colab-df-convert');\n",
              "        buttonEl.style.display =\n",
              "          google.colab.kernel.accessAllowed ? 'block' : 'none';\n",
              "\n",
              "        async function convertToInteractive(key) {\n",
              "          const element = document.querySelector('#df-d746eb44-1a4a-4cd8-b2c6-9c9ed6ce2697');\n",
              "          const dataTable =\n",
              "            await google.colab.kernel.invokeFunction('convertToInteractive',\n",
              "                                                     [key], {});\n",
              "          if (!dataTable) return;\n",
              "\n",
              "          const docLinkHtml = 'Like what you see? Visit the ' +\n",
              "            '<a target=\"_blank\" href=https://colab.research.google.com/notebooks/data_table.ipynb>data table notebook</a>'\n",
              "            + ' to learn more about interactive tables.';\n",
              "          element.innerHTML = '';\n",
              "          dataTable['output_type'] = 'display_data';\n",
              "          await google.colab.output.renderOutput(dataTable, element);\n",
              "          const docLink = document.createElement('div');\n",
              "          docLink.innerHTML = docLinkHtml;\n",
              "          element.appendChild(docLink);\n",
              "        }\n",
              "      </script>\n",
              "    </div>\n",
              "  </div>\n",
              "  "
            ]
          },
          "metadata": {},
          "execution_count": 7
        }
      ],
      "source": [
        "import seaborn as sns\n",
        "\n",
        "df = sns.load_dataset(\"titanic\")\n",
        "df.head()"
      ]
    },
    {
      "cell_type": "markdown",
      "metadata": {
        "id": "sdlHaCApoY3w"
      },
      "source": [
        "1. Plot a graph of your choice to show the age distribution of the passengers on the Titanic. Which age demography was higher?\n",
        "2. Display the gender of the passengers using an appropriate chart. Which gender demography was higher?\n",
        "3. Show the classes available on the ship. Which class was most occupied?\n",
        "4. Use a joint plot to explore the relationship between the age and fare."
      ]
    },
    {
      "cell_type": "code",
      "source": [
        "import pandas as pd\n",
        "import matplotlib.pyplot as plt"
      ],
      "metadata": {
        "id": "ObcAkeI1_Aig"
      },
      "execution_count": 176,
      "outputs": []
    },
    {
      "cell_type": "markdown",
      "source": [
        "# 1. Plot a graph of your choice to show the age distribution of the passengers on the Titanic. Which age demography was higher?"
      ],
      "metadata": {
        "id": "ucE4--0Oft4-"
      }
    },
    {
      "cell_type": "code",
      "source": [
        "# Histogram graph to show the age distribution of the passengers on the Titanic\n",
        "\n",
        "sns.histplot(data = df, x = \"age\", color = \"#780de2\")\n",
        "\n",
        "plt.title(\"Histogram distribution of the age of 'Titanic passengers'\")"
      ],
      "metadata": {
        "colab": {
          "base_uri": "https://localhost:8080/",
          "height": 319
        },
        "id": "L_rgyE2cWGzr",
        "outputId": "886cc4d5-3e99-4820-a350-e8c67bbe9223"
      },
      "execution_count": 174,
      "outputs": [
        {
          "output_type": "execute_result",
          "data": {
            "text/plain": [
              "Text(0.5, 1.0, \"Histogram distribution of the age of 'Titanic passengers'\")"
            ]
          },
          "metadata": {},
          "execution_count": 174
        },
        {
          "output_type": "display_data",
          "data": {
            "text/plain": [
              "<Figure size 432x288 with 1 Axes>"
            ],
            "image/png": "[encoded data removed]"
          },
          "metadata": {}
        }
      ]
    },
    {
      "cell_type": "markdown",
      "source": [
        "*Which age demography was higher?*: The age group between 20-25 "
      ],
      "metadata": {
        "id": "jMppV5Gwf720"
      }
    },
    {
      "cell_type": "markdown",
      "source": [
        "# 2. Display the gender of the passengers using an appropriate chart. Which gender demography was higher?"
      ],
      "metadata": {
        "id": "pbXzowmZgSZv"
      }
    },
    {
      "cell_type": "code",
      "source": [
        "# code to plot and customize a bar chart with the given variable\n",
        "\n",
        "sns.set_theme(style = \"darkgrid\")\n",
        "sns.countplot(x = \"sex\", data = df, palette = \"Set2\")"
      ],
      "metadata": {
        "colab": {
          "base_uri": "https://localhost:8080/",
          "height": 305
        },
        "id": "GlqmbEfkgcGJ",
        "outputId": "762d3d90-7f93-4e09-c3b2-9944d1df6b50"
      },
      "execution_count": 172,
      "outputs": [
        {
          "output_type": "execute_result",
          "data": {
            "text/plain": [
              "<matplotlib.axes._subplots.AxesSubplot at 0x7f30a1542790>"
            ]
          },
          "metadata": {},
          "execution_count": 172
        },
        {
          "output_type": "display_data",
          "data": {
            "text/plain": [
              "<Figure size 432x288 with 1 Axes>"
            ],
            "image/png": "[encoded data removed]"
          },
          "metadata": {}
        }
      ]
    },
    {
      "cell_type": "markdown",
      "source": [
        "The male gender is obviously higher, with a count of above 550, compared to the female gender that is just a little above 300."
      ],
      "metadata": {
        "id": "OBnuxyO8ipZr"
      }
    },
    {
      "cell_type": "markdown",
      "source": [
        "# Show the classes available on the ship. Which class was most occupied?"
      ],
      "metadata": {
        "id": "CfsRZt8pi486"
      }
    },
    {
      "cell_type": "code",
      "source": [
        "#code to generate a frequency table showing the various ...\n",
        "# categories in the \"class\" variable and the respective counts\n",
        "\n",
        "freq_table = pd.crosstab(df[\"class\"], columns = \"count\")\n",
        "\n",
        "print(freq_table)\n",
        "\n",
        "# code to plot and customize a corresponding pie chart\n",
        "freq_table.plot.pie(subplots = True, autopct = '%.0f%%')\n",
        "plt.legend().remove()\n",
        "\n",
        "plt.show()"
      ],
      "metadata": {
        "colab": {
          "base_uri": "https://localhost:8080/",
          "height": 335
        },
        "id": "guHJdxxnmvTS",
        "outputId": "4edcfa92-5a73-4202-9a57-39beca0a08a2"
      },
      "execution_count": 170,
      "outputs": [
        {
          "output_type": "stream",
          "name": "stdout",
          "text": [
            "col_0   count\n",
            "class        \n",
            "First     216\n",
            "Second    184\n",
            "Third     491\n"
          ]
        },
        {
          "output_type": "display_data",
          "data": {
            "text/plain": [
              "<Figure size 432x288 with 1 Axes>"
            ],
            "image/png": "[encoded data removed]"
          },
          "metadata": {}
        }
      ]
    },
    {
      "cell_type": "markdown",
      "source": [
        "From the frequency table and the pie chart above, there are three classes on the ship - first, second, third - and the most occupied ship is the third, occupying more than half (55%) of the ship."
      ],
      "metadata": {
        "id": "q14LzHxS9rr6"
      }
    },
    {
      "cell_type": "markdown",
      "source": [
        "# Use a joint plot to explore the relationship between the age and fare."
      ],
      "metadata": {
        "id": "3AlsZ8uI9-pm"
      }
    },
    {
      "cell_type": "code",
      "source": [
        "#Code to generate a jointplot of age and fare and customize it too\n",
        "sns.set_theme(style=\"darkgrid\")\n",
        "sns.jointplot(data = df, x = \"age\", y = \"fare\", dropna = True,\\\n",
        "              kind = \"reg\", color = \"#e9868b\")"
      ],
      "metadata": {
        "colab": {
          "base_uri": "https://localhost:8080/",
          "height": 455
        },
        "id": "DNSMO5soA_F9",
        "outputId": "202f91e0-6ab1-4b80-bf19-7d662c7ef077"
      },
      "execution_count": 177,
      "outputs": [
        {
          "output_type": "execute_result",
          "data": {
            "text/plain": [
              "<seaborn.axisgrid.JointGrid at 0x7f30a13dbe10>"
            ]
          },
          "metadata": {},
          "execution_count": 177
        },
        {
          "output_type": "display_data",
          "data": {
            "text/plain": [
              "<Figure size 432x432 with 3 Axes>"
            ],
            "image/png": "[encoded data removed]"
          },
          "metadata": {}
        }
      ]
    },
    {
      "cell_type": "markdown",
      "source": [
        "From the joint plot above, it is seen that the passengers' age is *slightly positively skewed* and their fares are *also positively skewed but more extreme than their ages*.\n",
        "\n",
        "\n",
        "This means that most passengers are within the younger age frame (mostly between 20 and 40) and their fares are also mostly low (less than 300) except for the few with the \"very high\" fares (above 500).\n",
        "\n",
        "\n",
        "When compared to each other, there is a *positive relationship* between them as evidenced by the direction of the correlation line in the scatterplot in the jointplot above.\n",
        "\n",
        "However, this relationship can be considered as a *weak relationship* because of the distribution of the dots around the line. This is further supported by the correlation coefficient generated in the code line below."
      ],
      "metadata": {
        "id": "Lt8MxghOCd9x"
      }
    },
    {
      "cell_type": "code",
      "source": [
        "# code to calculate the Pearson's correlation coefficient between age and fare\n",
        "# This quantifies the strength of the relationship between the two variables\n",
        "# Expected range is -1 to +1; zero indicates no relationship\n",
        "# + or - sign indicates the direction of the relationship\n",
        "# the closer, the value is to zero, the weaker the relationship\n",
        "# the farther away from zero and the closer to 1, the stronger the relationship\n",
        "\n",
        "corr_coeff_age_and_fare = df[\"age\"].corr(df[\"fare\"])\n",
        "\n",
        "round(corr_coeff_age_and_fare, 4)"
      ],
      "metadata": {
        "colab": {
          "base_uri": "https://localhost:8080/"
        },
        "id": "HvkDAU7mIpxS",
        "outputId": "c4e90b03-10b1-4d63-98b0-f3cf8f9adc52"
      },
      "execution_count": 178,
      "outputs": [
        {
          "output_type": "execute_result",
          "data": {
            "text/plain": [
              "0.0961"
            ]
          },
          "metadata": {},
          "execution_count": 178
        }
      ]
    },
    {
      "cell_type": "markdown",
      "source": [
        "The coefficient above shows only 0.0961 which is closer to zero than one, and can be interpreted as a 9.61% relationship between age and fare, which although it is positive, it is a very weak relationship, almost showing no relationship."
      ],
      "metadata": {
        "id": "7UMhhim9KUW-"
      }
    }
  ],
  "metadata": {
    "kernelspec": {
      "display_name": "Python 3",
      "language": "python",
      "name": "python3"
    },
    "language_info": {
      "codemirror_mode": {
        "name": "ipython",
        "version": 3
      },
      "file_extension": ".py",
      "mimetype": "text/x-python",
      "name": "python",
      "nbconvert_exporter": "python",
      "pygments_lexer": "ipython3",
      "version": "3.8.5"
    },
    "colab": {
      "name": "STM's Copy of Data visualization Assignment.ipynb",
      "provenance": [],
      "collapsed_sections": [
        "ucE4--0Oft4-",
        "pbXzowmZgSZv",
        "CfsRZt8pi486",
        "3AlsZ8uI9-pm"
      ]
    }
  },
  "nbformat": 4,
  "nbformat_minor": 0
}